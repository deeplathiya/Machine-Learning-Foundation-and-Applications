{
 "cells": [
  {
   "cell_type": "code",
   "execution_count": null,
   "metadata": {
    "id": "S06nBS5HGNLC"
   },
   "outputs": [],
   "source": [
    "# Do not make any changes in this cell\n",
    "# Simply execute it and move on\n",
    "\n",
    "import pandas as pd  \n",
    "import numpy as np \n",
    "import matplotlib.pyplot as plt\n",
    "import json\n",
    "ans = [None]*8"
   ]
  },
  {
   "cell_type": "code",
   "execution_count": null,
   "metadata": {
    "colab": {
     "base_uri": "https://localhost:8080/",
     "height": 402
    },
    "executionInfo": {
     "elapsed": 1735,
     "status": "ok",
     "timestamp": 1608035193443,
     "user": {
      "displayName": "Rishi Suvvada",
      "photoUrl": "https://lh3.googleusercontent.com/a-/AOh14GjuVXeLKeKJg4UdrEwHk0MQoihFWF4nHa0lB9xJcg=s64",
      "userId": "10414163319545203429"
     },
     "user_tz": -330
    },
    "id": "nMb22nEXGvRE",
    "outputId": "9acd070b-751a-4709-def9-894faf716f73"
   },
   "outputs": [
    {
     "data": {
      "text/html": [
       "<div>\n",
       "<style scoped>\n",
       "    .dataframe tbody tr th:only-of-type {\n",
       "        vertical-align: middle;\n",
       "    }\n",
       "\n",
       "    .dataframe tbody tr th {\n",
       "        vertical-align: top;\n",
       "    }\n",
       "\n",
       "    .dataframe thead th {\n",
       "        text-align: right;\n",
       "    }\n",
       "</style>\n",
       "<table border=\"1\" class=\"dataframe\">\n",
       "  <thead>\n",
       "    <tr style=\"text-align: right;\">\n",
       "      <th></th>\n",
       "      <th>age</th>\n",
       "      <th>sex</th>\n",
       "      <th>cp</th>\n",
       "      <th>fbs</th>\n",
       "      <th>restecg</th>\n",
       "      <th>exang</th>\n",
       "      <th>slope</th>\n",
       "      <th>ca</th>\n",
       "      <th>thal</th>\n",
       "      <th>target</th>\n",
       "    </tr>\n",
       "  </thead>\n",
       "  <tbody>\n",
       "    <tr>\n",
       "      <th>0</th>\n",
       "      <td>63</td>\n",
       "      <td>1</td>\n",
       "      <td>3</td>\n",
       "      <td>1</td>\n",
       "      <td>0</td>\n",
       "      <td>0</td>\n",
       "      <td>0</td>\n",
       "      <td>0</td>\n",
       "      <td>1</td>\n",
       "      <td>1</td>\n",
       "    </tr>\n",
       "    <tr>\n",
       "      <th>1</th>\n",
       "      <td>37</td>\n",
       "      <td>1</td>\n",
       "      <td>2</td>\n",
       "      <td>0</td>\n",
       "      <td>1</td>\n",
       "      <td>0</td>\n",
       "      <td>0</td>\n",
       "      <td>0</td>\n",
       "      <td>2</td>\n",
       "      <td>1</td>\n",
       "    </tr>\n",
       "    <tr>\n",
       "      <th>2</th>\n",
       "      <td>41</td>\n",
       "      <td>0</td>\n",
       "      <td>1</td>\n",
       "      <td>0</td>\n",
       "      <td>0</td>\n",
       "      <td>0</td>\n",
       "      <td>2</td>\n",
       "      <td>0</td>\n",
       "      <td>2</td>\n",
       "      <td>1</td>\n",
       "    </tr>\n",
       "    <tr>\n",
       "      <th>3</th>\n",
       "      <td>56</td>\n",
       "      <td>1</td>\n",
       "      <td>1</td>\n",
       "      <td>0</td>\n",
       "      <td>1</td>\n",
       "      <td>0</td>\n",
       "      <td>2</td>\n",
       "      <td>0</td>\n",
       "      <td>2</td>\n",
       "      <td>1</td>\n",
       "    </tr>\n",
       "    <tr>\n",
       "      <th>4</th>\n",
       "      <td>57</td>\n",
       "      <td>0</td>\n",
       "      <td>0</td>\n",
       "      <td>0</td>\n",
       "      <td>1</td>\n",
       "      <td>1</td>\n",
       "      <td>2</td>\n",
       "      <td>0</td>\n",
       "      <td>2</td>\n",
       "      <td>1</td>\n",
       "    </tr>\n",
       "    <tr>\n",
       "      <th>...</th>\n",
       "      <td>...</td>\n",
       "      <td>...</td>\n",
       "      <td>...</td>\n",
       "      <td>...</td>\n",
       "      <td>...</td>\n",
       "      <td>...</td>\n",
       "      <td>...</td>\n",
       "      <td>...</td>\n",
       "      <td>...</td>\n",
       "      <td>...</td>\n",
       "    </tr>\n",
       "    <tr>\n",
       "      <th>298</th>\n",
       "      <td>57</td>\n",
       "      <td>0</td>\n",
       "      <td>0</td>\n",
       "      <td>0</td>\n",
       "      <td>1</td>\n",
       "      <td>1</td>\n",
       "      <td>1</td>\n",
       "      <td>0</td>\n",
       "      <td>3</td>\n",
       "      <td>0</td>\n",
       "    </tr>\n",
       "    <tr>\n",
       "      <th>299</th>\n",
       "      <td>45</td>\n",
       "      <td>1</td>\n",
       "      <td>3</td>\n",
       "      <td>0</td>\n",
       "      <td>1</td>\n",
       "      <td>0</td>\n",
       "      <td>1</td>\n",
       "      <td>0</td>\n",
       "      <td>3</td>\n",
       "      <td>0</td>\n",
       "    </tr>\n",
       "    <tr>\n",
       "      <th>300</th>\n",
       "      <td>68</td>\n",
       "      <td>1</td>\n",
       "      <td>0</td>\n",
       "      <td>1</td>\n",
       "      <td>1</td>\n",
       "      <td>0</td>\n",
       "      <td>1</td>\n",
       "      <td>2</td>\n",
       "      <td>3</td>\n",
       "      <td>0</td>\n",
       "    </tr>\n",
       "    <tr>\n",
       "      <th>301</th>\n",
       "      <td>57</td>\n",
       "      <td>1</td>\n",
       "      <td>0</td>\n",
       "      <td>0</td>\n",
       "      <td>1</td>\n",
       "      <td>1</td>\n",
       "      <td>1</td>\n",
       "      <td>1</td>\n",
       "      <td>3</td>\n",
       "      <td>0</td>\n",
       "    </tr>\n",
       "    <tr>\n",
       "      <th>302</th>\n",
       "      <td>57</td>\n",
       "      <td>0</td>\n",
       "      <td>1</td>\n",
       "      <td>0</td>\n",
       "      <td>0</td>\n",
       "      <td>0</td>\n",
       "      <td>1</td>\n",
       "      <td>1</td>\n",
       "      <td>2</td>\n",
       "      <td>0</td>\n",
       "    </tr>\n",
       "  </tbody>\n",
       "</table>\n",
       "<p>303 rows × 10 columns</p>\n",
       "</div>"
      ],
      "text/plain": [
       "     age  sex  cp  fbs  restecg  exang  slope  ca  thal  target\n",
       "0     63    1   3    1        0      0      0   0     1       1\n",
       "1     37    1   2    0        1      0      0   0     2       1\n",
       "2     41    0   1    0        0      0      2   0     2       1\n",
       "3     56    1   1    0        1      0      2   0     2       1\n",
       "4     57    0   0    0        1      1      2   0     2       1\n",
       "..   ...  ...  ..  ...      ...    ...    ...  ..   ...     ...\n",
       "298   57    0   0    0        1      1      1   0     3       0\n",
       "299   45    1   3    0        1      0      1   0     3       0\n",
       "300   68    1   0    1        1      0      1   2     3       0\n",
       "301   57    1   0    0        1      1      1   1     3       0\n",
       "302   57    0   1    0        0      0      1   1     2       0\n",
       "\n",
       "[303 rows x 10 columns]"
      ]
     },
     "execution_count": 23,
     "metadata": {
      "tags": []
     },
     "output_type": "execute_result"
    }
   ],
   "source": [
    "#Import the dataset and define the feature as well as the target datasets / columns  \n",
    "dataset = pd.read_csv('heart.csv')  \n",
    "#We drop the 'trestbps','chol','thalach','oldpeak' as they have numerical values  \n",
    "dataset=dataset.drop('trestbps',axis=1) \n",
    "dataset=dataset.drop('chol',axis=1) \n",
    "dataset=dataset.drop('thalach',axis=1) \n",
    "dataset=dataset.drop('oldpeak',axis=1) \n",
    "dataset"
   ]
  },
  {
   "cell_type": "code",
   "execution_count": null,
   "metadata": {
    "colab": {
     "base_uri": "https://localhost:8080/",
     "height": 69
    },
    "executionInfo": {
     "elapsed": 1728,
     "status": "ok",
     "timestamp": 1608035193444,
     "user": {
      "displayName": "Rishi Suvvada",
      "photoUrl": "https://lh3.googleusercontent.com/a-/AOh14GjuVXeLKeKJg4UdrEwHk0MQoihFWF4nHa0lB9xJcg=s64",
      "userId": "10414163319545203429"
     },
     "user_tz": -330
    },
    "id": "4-noanxlY-jl",
    "outputId": "4359e733-4107-473c-bc4a-a0dc3141f9b7"
   },
   "outputs": [
    {
     "data": {
      "application/vnd.google.colaboratory.intrinsic+json": {
       "type": "string"
      },
      "text/plain": [
       "'\\nage\\nsex\\nchest pain type (4 values)\\nresting blood pressure\\nserum cholestoral in mg/dl\\nfasting blood sugar > 120 mg/dl\\nresting electrocardiographic results (values 0,1,2)\\nmaximum heart rate achieved\\nexercise induced angina\\noldpeak = ST depression induced by exercise relative to rest\\nthe slope of the peak exercise ST segment\\nnumber of major vessels (0-3) colored by flourosopy\\nthal: 3 = normal; 6 = fixed defect; 7 = reversable defect\\n'"
      ]
     },
     "execution_count": 24,
     "metadata": {
      "tags": []
     },
     "output_type": "execute_result"
    }
   ],
   "source": [
    "#these are the meanings of above features in the dataset\n",
    "'''\n",
    "age\n",
    "sex\n",
    "chest pain type (4 values)\n",
    "resting blood pressure\n",
    "serum cholestoral in mg/dl\n",
    "fasting blood sugar > 120 mg/dl\n",
    "resting electrocardiographic results (values 0,1,2)\n",
    "maximum heart rate achieved\n",
    "exercise induced angina\n",
    "oldpeak = ST depression induced by exercise relative to rest\n",
    "the slope of the peak exercise ST segment\n",
    "number of major vessels (0-3) colored by flourosopy\n",
    "thal: 3 = normal; 6 = fixed defect; 7 = reversable defect\n",
    "'''"
   ]
  },
  {
   "cell_type": "code",
   "execution_count": null,
   "metadata": {
    "colab": {
     "base_uri": "https://localhost:8080/",
     "height": 402
    },
    "executionInfo": {
     "elapsed": 1720,
     "status": "ok",
     "timestamp": 1608035193445,
     "user": {
      "displayName": "Rishi Suvvada",
      "photoUrl": "https://lh3.googleusercontent.com/a-/AOh14GjuVXeLKeKJg4UdrEwHk0MQoihFWF4nHa0lB9xJcg=s64",
      "userId": "10414163319545203429"
     },
     "user_tz": -330
    },
    "id": "nMH-VW5_N53s",
    "outputId": "7ccdb9ea-6f27-49ed-d519-d81523d5e7ff"
   },
   "outputs": [
    {
     "data": {
      "text/html": [
       "<div>\n",
       "<style scoped>\n",
       "    .dataframe tbody tr th:only-of-type {\n",
       "        vertical-align: middle;\n",
       "    }\n",
       "\n",
       "    .dataframe tbody tr th {\n",
       "        vertical-align: top;\n",
       "    }\n",
       "\n",
       "    .dataframe thead th {\n",
       "        text-align: right;\n",
       "    }\n",
       "</style>\n",
       "<table border=\"1\" class=\"dataframe\">\n",
       "  <thead>\n",
       "    <tr style=\"text-align: right;\">\n",
       "      <th></th>\n",
       "      <th>age</th>\n",
       "      <th>sex</th>\n",
       "      <th>cp</th>\n",
       "      <th>fbs</th>\n",
       "      <th>restecg</th>\n",
       "      <th>exang</th>\n",
       "      <th>slope</th>\n",
       "      <th>ca</th>\n",
       "      <th>thal</th>\n",
       "      <th>target</th>\n",
       "    </tr>\n",
       "  </thead>\n",
       "  <tbody>\n",
       "    <tr>\n",
       "      <th>0</th>\n",
       "      <td>3</td>\n",
       "      <td>1</td>\n",
       "      <td>3</td>\n",
       "      <td>1</td>\n",
       "      <td>0</td>\n",
       "      <td>0</td>\n",
       "      <td>0</td>\n",
       "      <td>0</td>\n",
       "      <td>1</td>\n",
       "      <td>1</td>\n",
       "    </tr>\n",
       "    <tr>\n",
       "      <th>1</th>\n",
       "      <td>0</td>\n",
       "      <td>1</td>\n",
       "      <td>2</td>\n",
       "      <td>0</td>\n",
       "      <td>1</td>\n",
       "      <td>0</td>\n",
       "      <td>0</td>\n",
       "      <td>0</td>\n",
       "      <td>2</td>\n",
       "      <td>1</td>\n",
       "    </tr>\n",
       "    <tr>\n",
       "      <th>2</th>\n",
       "      <td>1</td>\n",
       "      <td>0</td>\n",
       "      <td>1</td>\n",
       "      <td>0</td>\n",
       "      <td>0</td>\n",
       "      <td>0</td>\n",
       "      <td>2</td>\n",
       "      <td>0</td>\n",
       "      <td>2</td>\n",
       "      <td>1</td>\n",
       "    </tr>\n",
       "    <tr>\n",
       "      <th>3</th>\n",
       "      <td>2</td>\n",
       "      <td>1</td>\n",
       "      <td>1</td>\n",
       "      <td>0</td>\n",
       "      <td>1</td>\n",
       "      <td>0</td>\n",
       "      <td>2</td>\n",
       "      <td>0</td>\n",
       "      <td>2</td>\n",
       "      <td>1</td>\n",
       "    </tr>\n",
       "    <tr>\n",
       "      <th>4</th>\n",
       "      <td>2</td>\n",
       "      <td>0</td>\n",
       "      <td>0</td>\n",
       "      <td>0</td>\n",
       "      <td>1</td>\n",
       "      <td>1</td>\n",
       "      <td>2</td>\n",
       "      <td>0</td>\n",
       "      <td>2</td>\n",
       "      <td>1</td>\n",
       "    </tr>\n",
       "    <tr>\n",
       "      <th>...</th>\n",
       "      <td>...</td>\n",
       "      <td>...</td>\n",
       "      <td>...</td>\n",
       "      <td>...</td>\n",
       "      <td>...</td>\n",
       "      <td>...</td>\n",
       "      <td>...</td>\n",
       "      <td>...</td>\n",
       "      <td>...</td>\n",
       "      <td>...</td>\n",
       "    </tr>\n",
       "    <tr>\n",
       "      <th>298</th>\n",
       "      <td>2</td>\n",
       "      <td>0</td>\n",
       "      <td>0</td>\n",
       "      <td>0</td>\n",
       "      <td>1</td>\n",
       "      <td>1</td>\n",
       "      <td>1</td>\n",
       "      <td>0</td>\n",
       "      <td>3</td>\n",
       "      <td>0</td>\n",
       "    </tr>\n",
       "    <tr>\n",
       "      <th>299</th>\n",
       "      <td>1</td>\n",
       "      <td>1</td>\n",
       "      <td>3</td>\n",
       "      <td>0</td>\n",
       "      <td>1</td>\n",
       "      <td>0</td>\n",
       "      <td>1</td>\n",
       "      <td>0</td>\n",
       "      <td>3</td>\n",
       "      <td>0</td>\n",
       "    </tr>\n",
       "    <tr>\n",
       "      <th>300</th>\n",
       "      <td>3</td>\n",
       "      <td>1</td>\n",
       "      <td>0</td>\n",
       "      <td>1</td>\n",
       "      <td>1</td>\n",
       "      <td>0</td>\n",
       "      <td>1</td>\n",
       "      <td>2</td>\n",
       "      <td>3</td>\n",
       "      <td>0</td>\n",
       "    </tr>\n",
       "    <tr>\n",
       "      <th>301</th>\n",
       "      <td>2</td>\n",
       "      <td>1</td>\n",
       "      <td>0</td>\n",
       "      <td>0</td>\n",
       "      <td>1</td>\n",
       "      <td>1</td>\n",
       "      <td>1</td>\n",
       "      <td>1</td>\n",
       "      <td>3</td>\n",
       "      <td>0</td>\n",
       "    </tr>\n",
       "    <tr>\n",
       "      <th>302</th>\n",
       "      <td>2</td>\n",
       "      <td>0</td>\n",
       "      <td>1</td>\n",
       "      <td>0</td>\n",
       "      <td>0</td>\n",
       "      <td>0</td>\n",
       "      <td>1</td>\n",
       "      <td>1</td>\n",
       "      <td>2</td>\n",
       "      <td>0</td>\n",
       "    </tr>\n",
       "  </tbody>\n",
       "</table>\n",
       "<p>303 rows × 10 columns</p>\n",
       "</div>"
      ],
      "text/plain": [
       "     age  sex  cp  fbs  restecg  exang  slope  ca  thal  target\n",
       "0      3    1   3    1        0      0      0   0     1       1\n",
       "1      0    1   2    0        1      0      0   0     2       1\n",
       "2      1    0   1    0        0      0      2   0     2       1\n",
       "3      2    1   1    0        1      0      2   0     2       1\n",
       "4      2    0   0    0        1      1      2   0     2       1\n",
       "..   ...  ...  ..  ...      ...    ...    ...  ..   ...     ...\n",
       "298    2    0   0    0        1      1      1   0     3       0\n",
       "299    1    1   3    0        1      0      1   0     3       0\n",
       "300    3    1   0    1        1      0      1   2     3       0\n",
       "301    2    1   0    0        1      1      1   1     3       0\n",
       "302    2    0   1    0        0      0      1   1     2       0\n",
       "\n",
       "[303 rows x 10 columns]"
      ]
     },
     "execution_count": 25,
     "metadata": {
      "tags": []
     },
     "output_type": "execute_result"
    }
   ],
   "source": [
    "# divide the age feature  into groups \n",
    "# group into age (<30 , range(30,40) , range(40,50) ,  range(50,60) , range(60,70) , >=70 )\n",
    "#              = [ -1 ,     0        ,     1        ,         2     ,          3   ,   4   ]\n",
    "\n",
    "for i in range(0,303):\n",
    "  if(dataset[\"age\"][i]<30):\n",
    "    dataset[\"age\"][i]=-1\n",
    "  if(dataset[\"age\"][i] in range(30,40)):\n",
    "    dataset[\"age\"][i]=0\n",
    "  if(dataset[\"age\"][i] in range(40,50)):\n",
    "    dataset[\"age\"][i]=1\n",
    "  if(dataset[\"age\"][i] in range(50,60)):\n",
    "    dataset[\"age\"][i]=2\n",
    "  if(dataset[\"age\"][i] in range(60,70)):\n",
    "    dataset[\"age\"][i]=3\n",
    "  if(dataset[\"age\"][i]>=70):\n",
    "    dataset[\"age\"][i]=4\n",
    "    \n",
    "dataset"
   ]
  },
  {
   "cell_type": "code",
   "execution_count": null,
   "metadata": {
    "id": "9hpKpWjg5cvI"
   },
   "outputs": [],
   "source": [
    "# QUESTION -1 :- (1mark)\n",
    "#       Bayes theorm \n",
    "#       find the following from the above data set \n",
    "#       find P(\"cp\"=1,\"thal\"=2,\"slope\"=2 / Y=1) i.e. find the probability of  ( \"cp\"=1 and \"thal\"=2 and \"slope\"=2 ) given that \"target\"=1\n",
    "#       assign your answer to ans[-1]"
   ]
  },
  {
   "cell_type": "code",
   "execution_count": null,
   "metadata": {
    "colab": {
     "base_uri": "https://localhost:8080/"
    },
    "executionInfo": {
     "elapsed": 1708,
     "status": "ok",
     "timestamp": 1608035193447,
     "user": {
      "displayName": "Rishi Suvvada",
      "photoUrl": "https://lh3.googleusercontent.com/a-/AOh14GjuVXeLKeKJg4UdrEwHk0MQoihFWF4nHa0lB9xJcg=s64",
      "userId": "10414163319545203429"
     },
     "user_tz": -330
    },
    "id": "qcTm5PTT6IbN",
    "outputId": "9fcb5c36-8216-4798-c9c7-11b8f3ec8562"
   },
   "outputs": [
    {
     "name": "stdout",
     "output_type": "stream",
     "text": [
      "0.1696969696969697\n"
     ]
    }
   ],
   "source": [
    "s=0\n",
    "p=0\n",
    "for i in range(303):\n",
    "  if (dataset[\"target\"][i]==1):\n",
    "    s=s+1\n",
    "    if (dataset[\"cp\"][i]==1 and dataset[\"thal\"][i]==2 and dataset[\"slope\"][i]==2):\n",
    "      p=p+1\n",
    "\n",
    "print(p/s)"
   ]
  },
  {
   "cell_type": "code",
   "execution_count": null,
   "metadata": {
    "id": "tn-3W5-p7YC0"
   },
   "outputs": [],
   "source": [
    "ans[-1]=p/s"
   ]
  },
  {
   "cell_type": "code",
   "execution_count": null,
   "metadata": {
    "id": "Wjyb3axHxFG9"
   },
   "outputs": [],
   "source": [
    "# QUESTION -2 :- (1mark)\n",
    "#       Find the prior distribution on the whole above data set , i.e. P(Y=1) and P(Y=0)\n",
    "#       enter value of P(Y=1) in ans[0]"
   ]
  },
  {
   "cell_type": "code",
   "execution_count": null,
   "metadata": {
    "colab": {
     "base_uri": "https://localhost:8080/"
    },
    "executionInfo": {
     "elapsed": 1689,
     "status": "ok",
     "timestamp": 1608035193450,
     "user": {
      "displayName": "Rishi Suvvada",
      "photoUrl": "https://lh3.googleusercontent.com/a-/AOh14GjuVXeLKeKJg4UdrEwHk0MQoihFWF4nHa0lB9xJcg=s64",
      "userId": "10414163319545203429"
     },
     "user_tz": -330
    },
    "id": "ro9OwULKqIGk",
    "outputId": "ff57a7e5-7a7f-46e6-ccee-baf9b637b619"
   },
   "outputs": [
    {
     "name": "stdout",
     "output_type": "stream",
     "text": [
      "0.45544554455445546 0.5445544554455446\n"
     ]
    }
   ],
   "source": [
    "# enter your code here\n",
    "#P(Y)\n",
    "#Prior distribution\n",
    "\n",
    "def prior(f):\n",
    "  a=0\n",
    "  for k in dataset[\"target\"]:\n",
    "    if k==0:\n",
    "      a=a+1\n",
    "  P_0=a/len(dataset[\"target\"])\n",
    "  P_1=1-P_0\n",
    "  if f==0:\n",
    "    return P_0\n",
    "  if f==1:\n",
    "    return P_1\n",
    "\n",
    "print(prior(0),prior(1))"
   ]
  },
  {
   "cell_type": "code",
   "execution_count": null,
   "metadata": {
    "id": "j_cJb5Nz7AKa"
   },
   "outputs": [],
   "source": [
    "# Enter your answer here\n",
    "ans[0]=0.5445544554455446"
   ]
  },
  {
   "cell_type": "code",
   "execution_count": null,
   "metadata": {
    "id": "uKKofPoW68Q0"
   },
   "outputs": [],
   "source": [
    "# QUESTION -3:- (3marks)\n",
    "#         Find the class conditional distribution on the above data set i.e. find P(X/Y)\n",
    "#         Note: If class conditional probability = 0 assign 0.00000000000000001 (a low value) \n",
    "#         find the class cond probs of the feature \"slope\"= 0,1,2 when \"target\"=0 i.e. P(X(slope)=i/Y=0) where i=0,1,2\n",
    "#         Assign the answer to ans[1] in form of a list as [P(X(slope)=0/Y=0) , P(X(slope)=1/Y=0) , P(X(slope)=2/Y=0)]"
   ]
  },
  {
   "cell_type": "code",
   "execution_count": null,
   "metadata": {
    "colab": {
     "base_uri": "https://localhost:8080/"
    },
    "executionInfo": {
     "elapsed": 1669,
     "status": "ok",
     "timestamp": 1608035193452,
     "user": {
      "displayName": "Rishi Suvvada",
      "photoUrl": "https://lh3.googleusercontent.com/a-/AOh14GjuVXeLKeKJg4UdrEwHk0MQoihFWF4nHa0lB9xJcg=s64",
      "userId": "10414163319545203429"
     },
     "user_tz": -330
    },
    "id": "2-uoFNj8WdiF",
    "outputId": "dc8985a7-5c61-4202-eab2-450e05a1b1ee"
   },
   "outputs": [
    {
     "name": "stdout",
     "output_type": "stream",
     "text": [
      "0.08695652173913043 0.6594202898550725 0.2536231884057971\n"
     ]
    }
   ],
   "source": [
    "#enter your code below\n",
    "#class conditional distribution\n",
    "#P(x/y)\n",
    "def class_cond_prob(feature,x,y):\n",
    "  a=0\n",
    "  b=0\n",
    "  for i in range(len(dataset[\"target\"])):\n",
    "    if  dataset[\"target\"][i]==y:\n",
    "      a=a+1\n",
    "      if (dataset[feature][i]==x ):\n",
    "        b=b+1\n",
    "  if b==0 : return 0.00000000000000001\n",
    "  return (b/a)\n",
    "    \n",
    "\n",
    "\n",
    "print(class_cond_prob(\"slope\",0,0),class_cond_prob(\"slope\",1,0),class_cond_prob(\"slope\",2,0))\n",
    "\n",
    "  "
   ]
  },
  {
   "cell_type": "code",
   "execution_count": null,
   "metadata": {
    "id": "erbJFtkOCL0o"
   },
   "outputs": [],
   "source": [
    "# assign your answer here\n",
    "ans[1]=[0.08695652173913043 ,0.6594202898550725 ,0.2536231884057971]"
   ]
  },
  {
   "cell_type": "code",
   "execution_count": null,
   "metadata": {
    "id": "89TKPtBmCelL"
   },
   "outputs": [],
   "source": [
    "# QUESTION - 3 :- (3marks)\n",
    "#         Find the posterior distribution of the above dataset\n",
    "#         i.e. Find P(Y/X) \n",
    "#         for X={\"age\":-1,'sex': 0,'cp':0 ,'fbs':1,'restecg':1,'exang':1,'slope':2,'ca':1,'thal':1}\n",
    "#         find the label value (1 or 0) and also the respective confidence also the value of k in {  P(Y/X)=k*P(X1/Y)*P(X2/Y)*P(X3/Y)*P(X4/Y)......*P(Xn/Y)*P(Y) for n features   }\n",
    "#         eg: if the answer is Y=0 with confidence =0.89 and k= 2100.8\n",
    "#             your answer should be ans[2]=[0,0.89,2100.8]"
   ]
  },
  {
   "cell_type": "code",
   "execution_count": null,
   "metadata": {
    "colab": {
     "base_uri": "https://localhost:8080/"
    },
    "executionInfo": {
     "elapsed": 2069,
     "status": "ok",
     "timestamp": 1608035193868,
     "user": {
      "displayName": "Rishi Suvvada",
      "photoUrl": "https://lh3.googleusercontent.com/a-/AOh14GjuVXeLKeKJg4UdrEwHk0MQoihFWF4nHa0lB9xJcg=s64",
      "userId": "10414163319545203429"
     },
     "user_tz": -330
    },
    "id": "yX_nQxEbssYX",
    "outputId": "d4d730b9-c720-480d-a3fa-da739c23afaa"
   },
   "outputs": [
    {
     "data": {
      "text/plain": [
       "{0: 1.2948231800170634e-14, 1: 0.9999999999999871, 2: 86583642.22453906}"
      ]
     },
     "execution_count": 36,
     "metadata": {
      "tags": []
     },
     "output_type": "execute_result"
    }
   ],
   "source": [
    "# posterior distribution\n",
    "#P(y/x)\n",
    "\n",
    "def posterior(x_dict):\n",
    "  pst_1=prior(1)\n",
    "  pst_0=prior(0)\n",
    "  for i in x_dict:\n",
    "    pst_1=pst_1*class_cond_prob(i,x_dict[i],1)\n",
    "    pst_0=pst_0*class_cond_prob(i,x_dict[i],0)\n",
    "  a={}\n",
    "  a[0]=pst_0/(pst_0+pst_1)\n",
    "  a[1]=pst_1/(pst_0+pst_1)\n",
    "  a[2]=1/(pst_0+pst_1)\n",
    "  return a\n",
    "\n",
    "posterior({\"age\":-1,'sex': 0,'cp':0 ,'fbs':1,'restecg':1,'exang':1,'slope':2,'ca':1,'thal':1})\n",
    "\n",
    "#[-1,0,0,1,1,1,2,1,1]"
   ]
  },
  {
   "cell_type": "code",
   "execution_count": null,
   "metadata": {
    "id": "oMFfAxJ5Fnsg"
   },
   "outputs": [],
   "source": [
    "#enter your answers here\n",
    "ans[2]=[1,0.9999999999999871,86583642.22453906]"
   ]
  },
  {
   "cell_type": "code",
   "execution_count": null,
   "metadata": {
    "id": "owhO8Oib60HE"
   },
   "outputs": [],
   "source": [
    "# Splitting the data for fitting a library naive bayes model from sklearn\n",
    "# use train_test_split to split the data\n",
    "\n",
    "from sklearn.model_selection import train_test_split\n",
    "\n",
    "\n",
    "X= dataset.drop('target', axis=1)\n",
    "Y=dataset['target']\n",
    "X=np.array(X)\n",
    "Y=np.array(Y)\n",
    "\n",
    "\n",
    "# Split the data into train and test (train-90% and test-10%)\n",
    "# strictly use (randon_state = 42) in train_test_split ,so that your answer can be evaluated\n",
    "\n",
    "X_train, X_test, Y_train, Y_test = train_test_split(X, Y, test_size=0.10, random_state=42)\n",
    "\n",
    "#if splitting is done well , you will have 31 testing points and 272 training points"
   ]
  },
  {
   "cell_type": "code",
   "execution_count": null,
   "metadata": {
    "id": "Sq2RMtNlb24B"
   },
   "outputs": [],
   "source": [
    "# QUESTION - 4 :- (2marks)\n",
    "#         import the  GaussianNB  model from sklearn and find the no of wrong predictions on the testing set\n",
    "#         i.e. train and fit the model on the training set and predict the output if the heart disease exists or not \n",
    "#         compare the predicted and the testing labels and enter the no.of wrongly predicted lables in ans[3]   "
   ]
  },
  {
   "cell_type": "code",
   "execution_count": null,
   "metadata": {
    "colab": {
     "base_uri": "https://localhost:8080/"
    },
    "executionInfo": {
     "elapsed": 2051,
     "status": "ok",
     "timestamp": 1608035193870,
     "user": {
      "displayName": "Rishi Suvvada",
      "photoUrl": "https://lh3.googleusercontent.com/a-/AOh14GjuVXeLKeKJg4UdrEwHk0MQoihFWF4nHa0lB9xJcg=s64",
      "userId": "10414163319545203429"
     },
     "user_tz": -330
    },
    "id": "VnHUsVFwAHZE",
    "outputId": "3de22bcc-c6d0-4e87-f069-9b3e3f59c51a"
   },
   "outputs": [
    {
     "name": "stdout",
     "output_type": "stream",
     "text": [
      "Number of mislabeled points out of a total 31 points : 8\n"
     ]
    }
   ],
   "source": [
    "#importing the Gaussian naive bayes classifier model from sklearn\n",
    "\n",
    "from sklearn.naive_bayes import GaussianNB\n",
    "\n",
    "#enter your code below\n",
    "\n",
    "gnb = GaussianNB()\n",
    "Y_pred = gnb.fit(X_train, Y_train).predict(X_test)\n",
    "print(\"Number of mislabeled points out of a total %d points : %d\"% (X_test.shape[0], (Y_test != Y_pred).sum()))"
   ]
  },
  {
   "cell_type": "code",
   "execution_count": null,
   "metadata": {
    "id": "VjMJ-DIqct6W"
   },
   "outputs": [],
   "source": [
    "#enter your answers here\n",
    "ans[3]=8"
   ]
  },
  {
   "cell_type": "code",
   "execution_count": null,
   "metadata": {
    "colab": {
     "base_uri": "https://localhost:8080/"
    },
    "executionInfo": {
     "elapsed": 2043,
     "status": "ok",
     "timestamp": 1608035193873,
     "user": {
      "displayName": "Rishi Suvvada",
      "photoUrl": "https://lh3.googleusercontent.com/a-/AOh14GjuVXeLKeKJg4UdrEwHk0MQoihFWF4nHa0lB9xJcg=s64",
      "userId": "10414163319545203429"
     },
     "user_tz": -330
    },
    "id": "ZawLw7UvNik6",
    "outputId": "d243d90f-52fb-4d27-9132-0974edd32df6"
   },
   "outputs": [
    {
     "data": {
      "text/plain": [
       "[0.5445544554455446,\n",
       " [0.08695652173913043, 0.6594202898550725, 0.2536231884057971],\n",
       " [1, 0.9999999999999871, 86583642.22453906],\n",
       " 8,\n",
       " None,\n",
       " None,\n",
       " None,\n",
       " 0.1696969696969697]"
      ]
     },
     "execution_count": 42,
     "metadata": {
      "tags": []
     },
     "output_type": "execute_result"
    }
   ],
   "source": [
    "ans"
   ]
  },
  {
   "cell_type": "code",
   "execution_count": null,
   "metadata": {
    "colab": {
     "base_uri": "https://localhost:8080/"
    },
    "executionInfo": {
     "elapsed": 2038,
     "status": "ok",
     "timestamp": 1608035193874,
     "user": {
      "displayName": "Rishi Suvvada",
      "photoUrl": "https://lh3.googleusercontent.com/a-/AOh14GjuVXeLKeKJg4UdrEwHk0MQoihFWF4nHa0lB9xJcg=s64",
      "userId": "10414163319545203429"
     },
     "user_tz": -330
    },
    "id": "e23XaotTePt_",
    "outputId": "d9dbeafb-14d0-49bf-d7a3-b073ae5b192c"
   },
   "outputs": [
    {
     "name": "stdout",
     "output_type": "stream",
     "text": [
      "/bin/bash: /root/submit: No such file or directory\n"
     ]
    }
   ],
   "source": [
    "ans = [item for item in ans]\n",
    "with open('ans.json', 'w') as f:\n",
    "    json.dump(ans, f)\n",
    "! ~/submit"
   ]
  }
 ],
 "metadata": {
  "colab": {
   "name": "NaiveBayesian_solution.ipynb",
   "provenance": []
  },
  "kernelspec": {
   "display_name": "Python 3 (ipykernel)",
   "language": "python",
   "name": "python3"
  },
  "language_info": {
   "codemirror_mode": {
    "name": "ipython",
    "version": 3
   },
   "file_extension": ".py",
   "mimetype": "text/x-python",
   "name": "python",
   "nbconvert_exporter": "python",
   "pygments_lexer": "ipython3",
   "version": "3.10.4"
  }
 },
 "nbformat": 4,
 "nbformat_minor": 1
}

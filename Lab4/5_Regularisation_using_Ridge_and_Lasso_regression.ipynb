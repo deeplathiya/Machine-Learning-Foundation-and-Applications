{
 "cells": [
  {
   "cell_type": "markdown",
   "metadata": {},
   "source": [
    "In this tutorial we have tried to give a brief idea on how Ridge and LASSO regression work in code, with a simple data of advertising data set.\n",
    "\n",
    "**Ridge Regression:**\n",
    "1. Performs regularization, adds penalty equivalent to sum of squares of the coefficients\n",
    "2. Its objective is to minimize (LinearRegression loss function +  * λ(sum of square of coefficients))\n",
    "\n",
    "  **f(w) = ||w||2 = ∑j|wj|^2**\n",
    "\n",
    "  **Objective Function (to be minimized) = L(w,b)(linear regression loss function) + λf(w)**\n",
    "\n",
    "**LASSO Regression:**\n",
    "1. Performs regularization, adds penalty equivalent to absolute value of the magnitude of coefficients\n",
    "2. it's objective is to minimize (Linear Regression loss function + λ * (sum of absolute values of coefficients):\n",
    "\n",
    " **f(w) = ||w||1 = ∑j|wj|**\n",
    "\n",
    " **Objective Function = L(w,b)(linear regression loss function) + λf(w)**"
   ]
  },
  {
   "cell_type": "markdown",
   "metadata": {},
   "source": [
    "**Insights into dataset:**"
   ]
  },
  {
   "cell_type": "code",
   "execution_count": 1,
   "metadata": {},
   "outputs": [],
   "source": [
    "# importing importent libraries we are going to use throughout\n",
    "import numpy as np\n",
    "import pandas as pd\n",
    "import matplotlib.pyplot as plt\n",
    "%matplotlib inline"
   ]
  },
  {
   "cell_type": "code",
   "execution_count": 2,
   "metadata": {},
   "outputs": [
    {
     "data": {
      "text/html": [
       "<div>\n",
       "<style scoped>\n",
       "    .dataframe tbody tr th:only-of-type {\n",
       "        vertical-align: middle;\n",
       "    }\n",
       "\n",
       "    .dataframe tbody tr th {\n",
       "        vertical-align: top;\n",
       "    }\n",
       "\n",
       "    .dataframe thead th {\n",
       "        text-align: right;\n",
       "    }\n",
       "</style>\n",
       "<table border=\"1\" class=\"dataframe\">\n",
       "  <thead>\n",
       "    <tr style=\"text-align: right;\">\n",
       "      <th></th>\n",
       "      <th>TV</th>\n",
       "      <th>radio</th>\n",
       "      <th>newspaper</th>\n",
       "      <th>sales</th>\n",
       "    </tr>\n",
       "  </thead>\n",
       "  <tbody>\n",
       "    <tr>\n",
       "      <th>1</th>\n",
       "      <td>230.1</td>\n",
       "      <td>37.8</td>\n",
       "      <td>69.2</td>\n",
       "      <td>22.1</td>\n",
       "    </tr>\n",
       "    <tr>\n",
       "      <th>2</th>\n",
       "      <td>44.5</td>\n",
       "      <td>39.3</td>\n",
       "      <td>45.1</td>\n",
       "      <td>10.4</td>\n",
       "    </tr>\n",
       "    <tr>\n",
       "      <th>3</th>\n",
       "      <td>17.2</td>\n",
       "      <td>45.9</td>\n",
       "      <td>69.3</td>\n",
       "      <td>9.3</td>\n",
       "    </tr>\n",
       "    <tr>\n",
       "      <th>4</th>\n",
       "      <td>151.5</td>\n",
       "      <td>41.3</td>\n",
       "      <td>58.5</td>\n",
       "      <td>18.5</td>\n",
       "    </tr>\n",
       "    <tr>\n",
       "      <th>5</th>\n",
       "      <td>180.8</td>\n",
       "      <td>10.8</td>\n",
       "      <td>58.4</td>\n",
       "      <td>12.9</td>\n",
       "    </tr>\n",
       "  </tbody>\n",
       "</table>\n",
       "</div>"
      ],
      "text/plain": [
       "      TV  radio  newspaper  sales\n",
       "1  230.1   37.8       69.2   22.1\n",
       "2   44.5   39.3       45.1   10.4\n",
       "3   17.2   45.9       69.3    9.3\n",
       "4  151.5   41.3       58.5   18.5\n",
       "5  180.8   10.8       58.4   12.9"
      ]
     },
     "execution_count": 2,
     "metadata": {},
     "output_type": "execute_result"
    }
   ],
   "source": [
    "# Importing data (is taken from kaggle: https://www.kaggle.com/sazid28/advertising.csv)\n",
    "sales_data = pd .read_csv('Advertising.csv',index_col=0)\n",
    "sales_data.head()"
   ]
  },
  {
   "cell_type": "code",
   "execution_count": 3,
   "metadata": {},
   "outputs": [
    {
     "name": "stdout",
     "output_type": "stream",
     "text": [
      "<class 'pandas.core.frame.DataFrame'>\n",
      "Int64Index: 200 entries, 1 to 200\n",
      "Data columns (total 4 columns):\n",
      " #   Column     Non-Null Count  Dtype  \n",
      "---  ------     --------------  -----  \n",
      " 0   TV         200 non-null    float64\n",
      " 1   radio      200 non-null    float64\n",
      " 2   newspaper  200 non-null    float64\n",
      " 3   sales      200 non-null    float64\n",
      "dtypes: float64(4)\n",
      "memory usage: 7.8 KB\n"
     ]
    }
   ],
   "source": [
    "# Taking a look into data's\n",
    "sales_data.info()"
   ]
  },
  {
   "cell_type": "code",
   "execution_count": 4,
   "metadata": {},
   "outputs": [
    {
     "data": {
      "image/png": "[encoded data removed]",
      "text/plain": [
       "<Figure size 432x288 with 4 Axes>"
      ]
     },
     "metadata": {
      "needs_background": "light"
     },
     "output_type": "display_data"
    }
   ],
   "source": [
    "# To see the distribution range of data's\n",
    "sales_data.hist();"
   ]
  },
  {
   "cell_type": "code",
   "execution_count": 5,
   "metadata": {},
   "outputs": [
    {
     "data": {
      "text/plain": [
       "Text(0, 0.5, 'sales')"
      ]
     },
     "execution_count": 5,
     "metadata": {},
     "output_type": "execute_result"
    },
    {
     "data": {
      "image/png": "[encoded data removed]",
      "text/plain": [
       "<Figure size 432x288 with 1 Axes>"
      ]
     },
     "metadata": {
      "needs_background": "light"
     },
     "output_type": "display_data"
    }
   ],
   "source": [
    "plt.scatter(sales_data['TV'], sales_data['sales'])\n",
    "plt.xlabel('TV')\n",
    "plt.ylabel('sales')"
   ]
  },
  {
   "cell_type": "code",
   "execution_count": 6,
   "metadata": {},
   "outputs": [
    {
     "data": {
      "text/plain": [
       "Text(0, 0.5, 'sales')"
      ]
     },
     "execution_count": 6,
     "metadata": {},
     "output_type": "execute_result"
    },
    {
     "data": {
      "image/png": "[encoded data removed]",
      "text/plain": [
       "<Figure size 432x288 with 1 Axes>"
      ]
     },
     "metadata": {
      "needs_background": "light"
     },
     "output_type": "display_data"
    }
   ],
   "source": [
    "plt.scatter(sales_data['radio'], sales_data['sales'])\n",
    "plt.xlabel('radio')\n",
    "plt.ylabel('sales')"
   ]
  },
  {
   "cell_type": "code",
   "execution_count": 7,
   "metadata": {},
   "outputs": [
    {
     "data": {
      "text/plain": [
       "Text(0, 0.5, 'sales')"
      ]
     },
     "execution_count": 7,
     "metadata": {},
     "output_type": "execute_result"
    },
    {
     "data": {
      "image/png": "[encoded data removed]",
      "text/plain": [
       "<Figure size 432x288 with 1 Axes>"
      ]
     },
     "metadata": {
      "needs_background": "light"
     },
     "output_type": "display_data"
    }
   ],
   "source": [
    "plt.scatter(sales_data['newspaper'], sales_data['sales'])\n",
    "plt.xlabel('newspaper')\n",
    "plt.ylabel('sales')"
   ]
  },
  {
   "cell_type": "markdown",
   "metadata": {},
   "source": [
    "From the above graphs we can conclude that advertising on TV or radio is more linearly related with sales."
   ]
  },
  {
   "cell_type": "markdown",
   "metadata": {},
   "source": [
    "### Linear Regression"
   ]
  },
  {
   "cell_type": "code",
   "execution_count": 5,
   "metadata": {},
   "outputs": [
    {
     "name": "stdout",
     "output_type": "stream",
     "text": [
      "Accuracy we obtain from simple linear regression is: 89.94%\n"
     ]
    }
   ],
   "source": [
    "# Let's start with Linear Regression and then we see the effect of Ridge and LASSO over Linear regression\n",
    "\n",
    "from sklearn.linear_model import LinearRegression\n",
    "from sklearn.model_selection import train_test_split\n",
    "\n",
    "# For regenrating the result\n",
    "np.random.seed(42)\n",
    "\n",
    "# Chhose X and y\n",
    "X=sales_data.drop('sales', axis=1)\n",
    "y=sales_data['sales']\n",
    "\n",
    "# Spliting our data into train and test\n",
    "X_train, X_test, y_train, y_test = train_test_split(X, y, test_size=0.2)\n",
    "\n",
    "# set model\n",
    "l_reg=LinearRegression()\n",
    "\n",
    "# fit and find accuracy\n",
    "l_reg.fit(X_train, y_train)\n",
    "print(f'Accuracy we obtain from simple linear regression is: {l_reg.score(X_test, y_test)*100:.2f}%')\n",
    "\n",
    "y_pred_lr = l_reg.predict(X_test)"
   ]
  },
  {
   "cell_type": "code",
   "execution_count": 6,
   "metadata": {},
   "outputs": [
    {
     "name": "stderr",
     "output_type": "stream",
     "text": [
      "C:\\Users\\Dell\\AppData\\Local\\Temp/ipykernel_4192/4057996634.py:3: UserWarning: \n",
      "\n",
      "`distplot` is a deprecated function and will be removed in seaborn v0.14.0.\n",
      "\n",
      "Please adapt your code to use either `displot` (a figure-level function with\n",
      "similar flexibility) or `kdeplot` (an axes-level function for kernel density plots).\n",
      "\n",
      "For a guide to updating your code to use the new functions, please see\n",
      "https://gist.github.com/mwaskom/de44147ed2974457ad6372750bbe5751\n",
      "\n",
      "  ax1 = sns.distplot(y_test, hist=False, color=\"r\", label=\"Actual Value\")\n",
      "C:\\Users\\Dell\\AppData\\Local\\Temp/ipykernel_4192/4057996634.py:4: UserWarning: \n",
      "\n",
      "`distplot` is a deprecated function and will be removed in seaborn v0.14.0.\n",
      "\n",
      "Please adapt your code to use either `displot` (a figure-level function with\n",
      "similar flexibility) or `kdeplot` (an axes-level function for kernel density plots).\n",
      "\n",
      "For a guide to updating your code to use the new functions, please see\n",
      "https://gist.github.com/mwaskom/de44147ed2974457ad6372750bbe5751\n",
      "\n",
      "  sns.distplot(y_pred_lr, hist=False, color=\"b\", label=\"Fitted Values\" , ax=ax1)\n"
     ]
    },
    {
     "data": {
      "text/plain": [
       "<AxesSubplot:xlabel='sales', ylabel='Density'>"
      ]
     },
     "execution_count": 6,
     "metadata": {},
     "output_type": "execute_result"
    },
    {
     "data": {
      "image/png": "[encoded data removed]",
      "text/plain": [
       "<Figure size 432x288 with 1 Axes>"
      ]
     },
     "metadata": {
      "needs_background": "light"
     },
     "output_type": "display_data"
    }
   ],
   "source": [
    "# Comparing actual value and fitted value\n",
    "import seaborn as sns\n",
    "ax1 = sns.distplot(y_test, hist=False, color=\"r\", label=\"Actual Value\")\n",
    "sns.distplot(y_pred_lr, hist=False, color=\"b\", label=\"Fitted Values\" , ax=ax1)"
   ]
  },
  {
   "cell_type": "markdown",
   "metadata": {},
   "source": [
    "### Ridge Regression"
   ]
  },
  {
   "cell_type": "code",
   "execution_count": 7,
   "metadata": {},
   "outputs": [
    {
     "name": "stdout",
     "output_type": "stream",
     "text": [
      "Accuracy we obtain from Ridge regressor with lembda 1e-15 is: 89.94%\n",
      "Accuracy we obtain from Ridge regressor with lembda 1e-10 is: 89.94%\n",
      "Accuracy we obtain from Ridge regressor with lembda 1e-05 is: 89.94%\n",
      "Accuracy we obtain from Ridge regressor with lembda 1 is: 89.94%\n",
      "Accuracy we obtain from Ridge regressor with lembda 10 is: 89.94%\n",
      "Accuracy we obtain from Ridge regressor with lembda 100 is: 89.94%\n",
      "Accuracy we obtain from Ridge regressor with lembda 1000 is: 89.93%\n"
     ]
    },
    {
     "data": {
      "text/plain": [
       "array([16.40800912, 20.88976488, 21.55383372, 10.60843829, 22.11216081,\n",
       "       13.10555353, 21.05705405,  7.46106061, 13.60644116, 15.15507511,\n",
       "        9.04825872,  6.65339089, 14.3457663 ,  8.90341069,  9.68971658,\n",
       "       12.16504935,  8.73626902, 16.26504282, 10.27761577, 18.83102941,\n",
       "       19.56038524, 13.25109382, 12.33606288, 21.30694021,  7.82743747,\n",
       "        5.8096912 , 20.75741172, 11.9813993 ,  9.1835584 ,  8.50662087,\n",
       "       12.46658209, 10.00337061, 21.38755538, 12.24963379, 18.26668657,\n",
       "       20.13754774, 14.05494747, 20.85412731, 11.01745264,  4.56911393])"
      ]
     },
     "execution_count": 7,
     "metadata": {},
     "output_type": "execute_result"
    }
   ],
   "source": [
    "# We do the same with Ridge regression\n",
    "from sklearn.linear_model import Ridge\n",
    "from sklearn.model_selection import GridSearchCV\n",
    "\n",
    "# For regenrating the result\n",
    "np.random.seed(42)\n",
    "\n",
    "# Chhose X and y\n",
    "X=sales_data.drop('sales', axis=1)\n",
    "y=sales_data['sales']\n",
    "\n",
    "# Spliting our data into train and test\n",
    "X_train, X_test, y_train, y_test = train_test_split(X, y, test_size=0.2)\n",
    "\n",
    "# set and fit our model for different value of lembda (alpha)\n",
    "for num in [1e-15, 1e-10, 1e-5, 1, 10, 100, 1000]:\n",
    "    ridge = Ridge(alpha=num)\n",
    "\n",
    "    # fit and score the model\n",
    "    ridge.fit(X_train, y_train)\n",
    "    print(f'Accuracy we obtain from Ridge regressor with lembda {num} is: {ridge.score(X_test, y_test)*100:.2f}%')\n",
    "\n",
    "# predicting y for the y_test with best fitting\n",
    "ridge = Ridge(alpha=1)\n",
    "y_pred_ridge=ridge.fit(X_train, y_train).predict(X_test)\n",
    "y_pred_ridge"
   ]
  },
  {
   "cell_type": "code",
   "execution_count": 8,
   "metadata": {},
   "outputs": [
    {
     "name": "stderr",
     "output_type": "stream",
     "text": [
      "C:\\Users\\Dell\\AppData\\Local\\Temp/ipykernel_4192/424523066.py:3: UserWarning: \n",
      "\n",
      "`distplot` is a deprecated function and will be removed in seaborn v0.14.0.\n",
      "\n",
      "Please adapt your code to use either `displot` (a figure-level function with\n",
      "similar flexibility) or `kdeplot` (an axes-level function for kernel density plots).\n",
      "\n",
      "For a guide to updating your code to use the new functions, please see\n",
      "https://gist.github.com/mwaskom/de44147ed2974457ad6372750bbe5751\n",
      "\n",
      "  ax1 = sns.distplot(y_test, hist=False, color=\"r\", label=\"Actual Value\")\n",
      "C:\\Users\\Dell\\AppData\\Local\\Temp/ipykernel_4192/424523066.py:4: UserWarning: \n",
      "\n",
      "`distplot` is a deprecated function and will be removed in seaborn v0.14.0.\n",
      "\n",
      "Please adapt your code to use either `displot` (a figure-level function with\n",
      "similar flexibility) or `kdeplot` (an axes-level function for kernel density plots).\n",
      "\n",
      "For a guide to updating your code to use the new functions, please see\n",
      "https://gist.github.com/mwaskom/de44147ed2974457ad6372750bbe5751\n",
      "\n",
      "  sns.distplot(y_pred_ridge, hist=False, color=\"b\", label=\"Fitted Values\" , ax=ax1)\n"
     ]
    },
    {
     "data": {
      "text/plain": [
       "<AxesSubplot:xlabel='sales', ylabel='Density'>"
      ]
     },
     "execution_count": 8,
     "metadata": {},
     "output_type": "execute_result"
    },
    {
     "data": {
      "image/png": "[encoded data removed]",
      "text/plain": [
       "<Figure size 432x288 with 1 Axes>"
      ]
     },
     "metadata": {
      "needs_background": "light"
     },
     "output_type": "display_data"
    }
   ],
   "source": [
    "import seaborn as sns\n",
    "\n",
    "ax1 = sns.distplot(y_test, hist=False, color=\"r\", label=\"Actual Value\")\n",
    "sns.distplot(y_pred_ridge, hist=False, color=\"b\", label=\"Fitted Values\" , ax=ax1)"
   ]
  },
  {
   "cell_type": "markdown",
   "metadata": {},
   "source": [
    "### LASSO Regression"
   ]
  },
  {
   "cell_type": "code",
   "execution_count": 9,
   "metadata": {},
   "outputs": [
    {
     "name": "stdout",
     "output_type": "stream",
     "text": [
      "Accuracy we obtain from Ridge regressor with lambda 1e-15 is: 89.94%\n",
      "Accuracy we obtain from Ridge regressor with lambda 1e-10 is: 89.94%\n",
      "Accuracy we obtain from Ridge regressor with lambda 1e-05 is: 89.94%\n",
      "Accuracy we obtain from Ridge regressor with lambda 1 is: 90.04%\n",
      "Accuracy we obtain from Ridge regressor with lambda 10 is: 89.05%\n",
      "Accuracy we obtain from Ridge regressor with lambda 100 is: 59.15%\n",
      "Accuracy we obtain from Ridge regressor with lambda 1000 is: -0.48%\n"
     ]
    },
    {
     "data": {
      "text/plain": [
       "array([16.34243054, 20.75921812, 21.50111725, 10.54782778, 22.04080648,\n",
       "       13.03591171, 20.9734386 ,  7.52970731, 13.69662642, 15.15195335,\n",
       "        9.09056025,  6.72891781, 14.33861192,  8.9182951 ,  9.77498375,\n",
       "       12.21387221,  8.71496513, 16.27982422, 10.29146229, 18.83004708,\n",
       "       19.45701463, 13.09383443, 12.30445517, 21.1878815 ,  7.92649991,\n",
       "        5.91081596, 20.66872683, 12.04108347,  9.23770341,  8.54136057,\n",
       "       12.55121049, 10.03609345, 21.24061721, 12.10314104, 18.27875991,\n",
       "       20.11802973, 14.00116475, 20.77888074, 11.08499013,  4.67528269])"
      ]
     },
     "execution_count": 9,
     "metadata": {},
     "output_type": "execute_result"
    }
   ],
   "source": [
    "# We do the same with Ridge regression\n",
    "from sklearn.linear_model import Lasso\n",
    "from sklearn.model_selection import GridSearchCV\n",
    "\n",
    "# For regenerating the result\n",
    "np.random.seed(42)\n",
    "\n",
    "# Chhose X and y\n",
    "X=sales_data.drop('sales', axis=1)\n",
    "y=sales_data['sales']\n",
    "\n",
    "# Spliting our data into train and test\n",
    "X_train, X_test, y_train, y_test = train_test_split(X, y, test_size=0.2)\n",
    "\n",
    "# set and fit our model for different value of lembda (alpha)\n",
    "for num in [1e-15, 1e-10, 1e-5, 1, 10, 100, 1000]:\n",
    "    lasso = Lasso(alpha=num)\n",
    "\n",
    "    # fit and score the model\n",
    "    lasso.fit(X_train, y_train)\n",
    "    print(f'Accuracy we obtain from Ridge regressor with lambda {num} is: {lasso.score(X_test, y_test)*100:.2f}%')\n",
    "# predicting y for the y_test with best fitting\n",
    "lasso = Lasso(alpha=1)\n",
    "y_pred_lasso=lasso.fit(X_train, y_train).predict(X_test)\n",
    "y_pred_lasso"
   ]
  },
  {
   "cell_type": "code",
   "execution_count": 10,
   "metadata": {},
   "outputs": [
    {
     "name": "stderr",
     "output_type": "stream",
     "text": [
      "C:\\Users\\Dell\\AppData\\Local\\Temp/ipykernel_4192/568275364.py:3: UserWarning: \n",
      "\n",
      "`distplot` is a deprecated function and will be removed in seaborn v0.14.0.\n",
      "\n",
      "Please adapt your code to use either `displot` (a figure-level function with\n",
      "similar flexibility) or `kdeplot` (an axes-level function for kernel density plots).\n",
      "\n",
      "For a guide to updating your code to use the new functions, please see\n",
      "https://gist.github.com/mwaskom/de44147ed2974457ad6372750bbe5751\n",
      "\n",
      "  ax1 = sns.distplot(y_test, hist=False, color=\"r\", label=\"Actual Value\")\n",
      "C:\\Users\\Dell\\AppData\\Local\\Temp/ipykernel_4192/568275364.py:4: UserWarning: \n",
      "\n",
      "`distplot` is a deprecated function and will be removed in seaborn v0.14.0.\n",
      "\n",
      "Please adapt your code to use either `displot` (a figure-level function with\n",
      "similar flexibility) or `kdeplot` (an axes-level function for kernel density plots).\n",
      "\n",
      "For a guide to updating your code to use the new functions, please see\n",
      "https://gist.github.com/mwaskom/de44147ed2974457ad6372750bbe5751\n",
      "\n",
      "  sns.distplot(y_pred_lasso, hist=False, color=\"b\", label=\"Fitted Values\" , ax=ax1)\n"
     ]
    },
    {
     "data": {
      "text/plain": [
       "<AxesSubplot:xlabel='sales', ylabel='Density'>"
      ]
     },
     "execution_count": 10,
     "metadata": {},
     "output_type": "execute_result"
    },
    {
     "data": {
      "image/png": "[encoded data removed]",
      "text/plain": [
       "<Figure size 432x288 with 1 Axes>"
      ]
     },
     "metadata": {
      "needs_background": "light"
     },
     "output_type": "display_data"
    }
   ],
   "source": [
    "import seaborn as sns\n",
    "\n",
    "ax1 = sns.distplot(y_test, hist=False, color=\"r\", label=\"Actual Value\")\n",
    "sns.distplot(y_pred_lasso, hist=False, color=\"b\", label=\"Fitted Values\" , ax=ax1)"
   ]
  },
  {
   "cell_type": "markdown",
   "metadata": {},
   "source": []
  }
 ],
 "metadata": {
  "kernelspec": {
   "display_name": "Python 3",
   "language": "python",
   "name": "python3"
  },
  "language_info": {
   "codemirror_mode": {
    "name": "ipython",
    "version": 3
   },
   "file_extension": ".py",
   "mimetype": "text/x-python",
   "name": "python",
   "nbconvert_exporter": "python",
   "pygments_lexer": "ipython3",
   "version": "3.10.1"
  },
  "vscode": {
   "interpreter": {
    "hash": "76d7c06053c3456e5600312cec90888656fc0ed30c03d8425b9dac6e4fc8e014"
   }
  }
 },
 "nbformat": 4,
 "nbformat_minor": 2
}

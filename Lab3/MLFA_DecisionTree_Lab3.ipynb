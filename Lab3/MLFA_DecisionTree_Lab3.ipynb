{
 "cells": [
  {
   "cell_type": "markdown",
   "metadata": {},
   "source": [
    "# Tutorial - Decision Tree \n",
    "\n",
    "Decision trees are a common and powerful prediction approach.\n",
    "\n",
    "They are popular because the final model is so easy to understand. The final decision tree can explain why a specific prediction was made, making it attractive for use. The goal is to create a model that predicts the value of a target variable by learning simple decision rules inferred from the data features. More complex ensemble approaches like random forests are built on top of decision trees.\n",
    "\n",
    "In this tutorial, we will learn how to create a decision tree.\n",
    "\n",
    "1. Import necessary libraries.\n",
    "2. Import datset and view its shape.\n",
    "3. Define the feature attribute and target attribute.\n",
    "4. Spliting the dataset 80% for training, and 20% for testing the classifier.\n",
    "5. Using entropy and gini index to measure the quality of a split and fit the data.\n",
    "6. Making predictions on test data.\n",
    "7. Calculating accuracy.\n",
    "8. Calculating the confusion matrix.\n",
    "9. Decision tree visualization."
   ]
  },
  {
   "cell_type": "code",
   "execution_count": 20,
   "metadata": {},
   "outputs": [],
   "source": [
    "#Importing necessary libraries \n",
    "\n",
    "import pandas as pd  \n",
    "from sklearn import tree\n",
    "from sklearn.tree import DecisionTreeClassifier # Import Decision Tree Classifier\n",
    "from sklearn.model_selection import train_test_split # Import train_test_split function\n",
    "from sklearn import metrics #Import scikit-learn metrics module for accuracy calculation"
   ]
  },
  {
   "cell_type": "code",
   "execution_count": 21,
   "metadata": {},
   "outputs": [
    {
     "name": "stdout",
     "output_type": "stream",
     "text": [
      "(178, 14)\n"
     ]
    },
    {
     "data": {
      "text/html": [
       "<div>\n",
       "<style scoped>\n",
       "    .dataframe tbody tr th:only-of-type {\n",
       "        vertical-align: middle;\n",
       "    }\n",
       "\n",
       "    .dataframe tbody tr th {\n",
       "        vertical-align: top;\n",
       "    }\n",
       "\n",
       "    .dataframe thead th {\n",
       "        text-align: right;\n",
       "    }\n",
       "</style>\n",
       "<table border=\"1\" class=\"dataframe\">\n",
       "  <thead>\n",
       "    <tr style=\"text-align: right;\">\n",
       "      <th></th>\n",
       "      <th>Alcohol</th>\n",
       "      <th>Malic_Acid</th>\n",
       "      <th>Ash</th>\n",
       "      <th>Ash_Alcanity</th>\n",
       "      <th>Magnesium</th>\n",
       "      <th>Total_Phenols</th>\n",
       "      <th>Flavanoids</th>\n",
       "      <th>Nonflavanoid_Phenols</th>\n",
       "      <th>Proanthocyanins</th>\n",
       "      <th>Color_Intensity</th>\n",
       "      <th>Hue</th>\n",
       "      <th>OD280</th>\n",
       "      <th>Proline</th>\n",
       "      <th>Customer_Segment</th>\n",
       "    </tr>\n",
       "  </thead>\n",
       "  <tbody>\n",
       "    <tr>\n",
       "      <th>0</th>\n",
       "      <td>14.23</td>\n",
       "      <td>1.71</td>\n",
       "      <td>2.43</td>\n",
       "      <td>15.6</td>\n",
       "      <td>127</td>\n",
       "      <td>2.80</td>\n",
       "      <td>3.06</td>\n",
       "      <td>0.28</td>\n",
       "      <td>2.29</td>\n",
       "      <td>5.64</td>\n",
       "      <td>1.04</td>\n",
       "      <td>3.92</td>\n",
       "      <td>1065</td>\n",
       "      <td>1</td>\n",
       "    </tr>\n",
       "    <tr>\n",
       "      <th>1</th>\n",
       "      <td>13.20</td>\n",
       "      <td>1.78</td>\n",
       "      <td>2.14</td>\n",
       "      <td>11.2</td>\n",
       "      <td>100</td>\n",
       "      <td>2.65</td>\n",
       "      <td>2.76</td>\n",
       "      <td>0.26</td>\n",
       "      <td>1.28</td>\n",
       "      <td>4.38</td>\n",
       "      <td>1.05</td>\n",
       "      <td>3.40</td>\n",
       "      <td>1050</td>\n",
       "      <td>1</td>\n",
       "    </tr>\n",
       "    <tr>\n",
       "      <th>2</th>\n",
       "      <td>13.16</td>\n",
       "      <td>2.36</td>\n",
       "      <td>2.67</td>\n",
       "      <td>18.6</td>\n",
       "      <td>101</td>\n",
       "      <td>2.80</td>\n",
       "      <td>3.24</td>\n",
       "      <td>0.30</td>\n",
       "      <td>2.81</td>\n",
       "      <td>5.68</td>\n",
       "      <td>1.03</td>\n",
       "      <td>3.17</td>\n",
       "      <td>1185</td>\n",
       "      <td>1</td>\n",
       "    </tr>\n",
       "    <tr>\n",
       "      <th>3</th>\n",
       "      <td>14.37</td>\n",
       "      <td>1.95</td>\n",
       "      <td>2.50</td>\n",
       "      <td>16.8</td>\n",
       "      <td>113</td>\n",
       "      <td>3.85</td>\n",
       "      <td>3.49</td>\n",
       "      <td>0.24</td>\n",
       "      <td>2.18</td>\n",
       "      <td>7.80</td>\n",
       "      <td>0.86</td>\n",
       "      <td>3.45</td>\n",
       "      <td>1480</td>\n",
       "      <td>1</td>\n",
       "    </tr>\n",
       "    <tr>\n",
       "      <th>4</th>\n",
       "      <td>13.24</td>\n",
       "      <td>2.59</td>\n",
       "      <td>2.87</td>\n",
       "      <td>21.0</td>\n",
       "      <td>118</td>\n",
       "      <td>2.80</td>\n",
       "      <td>2.69</td>\n",
       "      <td>0.39</td>\n",
       "      <td>1.82</td>\n",
       "      <td>4.32</td>\n",
       "      <td>1.04</td>\n",
       "      <td>2.93</td>\n",
       "      <td>735</td>\n",
       "      <td>1</td>\n",
       "    </tr>\n",
       "  </tbody>\n",
       "</table>\n",
       "</div>"
      ],
      "text/plain": [
       "   Alcohol  Malic_Acid   Ash  Ash_Alcanity  Magnesium  Total_Phenols  \\\n",
       "0    14.23        1.71  2.43          15.6        127           2.80   \n",
       "1    13.20        1.78  2.14          11.2        100           2.65   \n",
       "2    13.16        2.36  2.67          18.6        101           2.80   \n",
       "3    14.37        1.95  2.50          16.8        113           3.85   \n",
       "4    13.24        2.59  2.87          21.0        118           2.80   \n",
       "\n",
       "   Flavanoids  Nonflavanoid_Phenols  Proanthocyanins  Color_Intensity   Hue  \\\n",
       "0        3.06                  0.28             2.29             5.64  1.04   \n",
       "1        2.76                  0.26             1.28             4.38  1.05   \n",
       "2        3.24                  0.30             2.81             5.68  1.03   \n",
       "3        3.49                  0.24             2.18             7.80  0.86   \n",
       "4        2.69                  0.39             1.82             4.32  1.04   \n",
       "\n",
       "   OD280  Proline  Customer_Segment  \n",
       "0   3.92     1065                 1  \n",
       "1   3.40     1050                 1  \n",
       "2   3.17     1185                 1  \n",
       "3   3.45     1480                 1  \n",
       "4   2.93      735                 1  "
      ]
     },
     "execution_count": 21,
     "metadata": {},
     "output_type": "execute_result"
    }
   ],
   "source": [
    "# import the dataset\n",
    "\n",
    "data = pd.read_csv(\"wine.csv\")\n",
    "# checking the dimensions of the data\n",
    "print(data.shape)\n",
    "# To see first 5 rows of the dataset\n",
    "data.head()"
   ]
  },
  {
   "cell_type": "code",
   "execution_count": 22,
   "metadata": {},
   "outputs": [
    {
     "data": {
      "text/plain": [
       "Index(['Alcohol', 'Malic_Acid', 'Ash', 'Ash_Alcanity', 'Magnesium',\n",
       "       'Total_Phenols', 'Flavanoids', 'Nonflavanoid_Phenols',\n",
       "       'Proanthocyanins', 'Color_Intensity', 'Hue', 'OD280', 'Proline',\n",
       "       'Customer_Segment'],\n",
       "      dtype='object')"
      ]
     },
     "execution_count": 22,
     "metadata": {},
     "output_type": "execute_result"
    }
   ],
   "source": [
    "# columns present in the dataset\n",
    "data.columns "
   ]
  },
  {
   "cell_type": "code",
   "execution_count": 23,
   "metadata": {},
   "outputs": [],
   "source": [
    "# define the feature as well as the target datasets / columns\n",
    "feature_col = ['Alcohol', 'Malic_Acid', 'Ash', 'Ash_Alcanity', 'Magnesium','Total_Phenols', \n",
    "               'Flavanoids', 'Nonflavanoid_Phenols','Proanthocyanins', 'Color_Intensity', 'Hue', 'OD280', 'Proline']\n",
    "features = data[feature_col]\n",
    "label = data.Customer_Segment"
   ]
  },
  {
   "cell_type": "code",
   "execution_count": 24,
   "metadata": {},
   "outputs": [],
   "source": [
    "# Split the given data into 80 percent training data and 20 percent testing data\n",
    "x_train, x_test, y_train, y_test = train_test_split(features, label, test_size=0.2)"
   ]
  },
  {
   "cell_type": "code",
   "execution_count": 25,
   "metadata": {},
   "outputs": [],
   "source": [
    "#Fit the given data\n",
    "model_tree = DecisionTreeClassifier(criterion = 'entropy')\n",
    "model_tree = model_tree.fit(x_train, y_train)"
   ]
  },
  {
   "cell_type": "code",
   "execution_count": 26,
   "metadata": {},
   "outputs": [],
   "source": [
    "#Make prediction on the test data\n",
    "ypred_entropy = model_tree.predict(x_test)"
   ]
  },
  {
   "cell_type": "code",
   "execution_count": 27,
   "metadata": {},
   "outputs": [
    {
     "name": "stdout",
     "output_type": "stream",
     "text": [
      "1.0\n"
     ]
    }
   ],
   "source": [
    "# percentage of accuracy\n",
    "print(metrics.accuracy_score(y_test, ypred_entropy))"
   ]
  },
  {
   "cell_type": "code",
   "execution_count": 28,
   "metadata": {},
   "outputs": [
    {
     "name": "stdout",
     "output_type": "stream",
     "text": [
      "[[12  0  0]\n",
      " [ 0 16  0]\n",
      " [ 0  0  8]]\n"
     ]
    }
   ],
   "source": [
    "# confusion matrix\n",
    "print(metrics.confusion_matrix(y_test, ypred_entropy))"
   ]
  },
  {
   "cell_type": "code",
   "execution_count": 29,
   "metadata": {},
   "outputs": [
    {
     "data": {
      "text/plain": [
       "[Text(0.4230769230769231, 0.9, 'X[6] <= 1.575\\nentropy = 1.573\\nsamples = 142\\nvalue = [47, 55, 40]'),\n",
       " Text(0.15384615384615385, 0.7, 'X[9] <= 3.725\\nentropy = 0.804\\nsamples = 53\\nvalue = [0, 13, 40]'),\n",
       " Text(0.07692307692307693, 0.5, 'entropy = 0.0\\nsamples = 12\\nvalue = [0, 12, 0]'),\n",
       " Text(0.23076923076923078, 0.5, 'X[10] <= 0.97\\nentropy = 0.165\\nsamples = 41\\nvalue = [0, 1, 40]'),\n",
       " Text(0.15384615384615385, 0.3, 'entropy = 0.0\\nsamples = 40\\nvalue = [0, 0, 40]'),\n",
       " Text(0.3076923076923077, 0.3, 'entropy = 0.0\\nsamples = 1\\nvalue = [0, 1, 0]'),\n",
       " Text(0.6923076923076923, 0.7, 'X[12] <= 722.5\\nentropy = 0.998\\nsamples = 89\\nvalue = [47, 42, 0]'),\n",
       " Text(0.5384615384615384, 0.5, 'X[1] <= 3.925\\nentropy = 0.169\\nsamples = 40\\nvalue = [1, 39, 0]'),\n",
       " Text(0.46153846153846156, 0.3, 'entropy = 0.0\\nsamples = 37\\nvalue = [0, 37, 0]'),\n",
       " Text(0.6153846153846154, 0.3, 'X[1] <= 4.14\\nentropy = 0.918\\nsamples = 3\\nvalue = [1, 2, 0]'),\n",
       " Text(0.5384615384615384, 0.1, 'entropy = 0.0\\nsamples = 1\\nvalue = [1, 0, 0]'),\n",
       " Text(0.6923076923076923, 0.1, 'entropy = 0.0\\nsamples = 2\\nvalue = [0, 2, 0]'),\n",
       " Text(0.8461538461538461, 0.5, 'X[9] <= 3.435\\nentropy = 0.332\\nsamples = 49\\nvalue = [46, 3, 0]'),\n",
       " Text(0.7692307692307693, 0.3, 'entropy = 0.0\\nsamples = 3\\nvalue = [0, 3, 0]'),\n",
       " Text(0.9230769230769231, 0.3, 'entropy = 0.0\\nsamples = 46\\nvalue = [46, 0, 0]')]"
      ]
     },
     "execution_count": 29,
     "metadata": {},
     "output_type": "execute_result"
    },
    {
     "data": {
      "image/png": "[encoded data removed]",
      "text/plain": [
       "<Figure size 432x288 with 1 Axes>"
      ]
     },
     "metadata": {
      "needs_background": "light"
     },
     "output_type": "display_data"
    }
   ],
   "source": [
    "tree.plot_tree(model_tree)"
   ]
  },
  {
   "cell_type": "markdown",
   "metadata": {},
   "source": [
    "The tree can also be exported in textual format with the function export_text. This method doesn’t require the installation of external libraries and is more compact:"
   ]
  },
  {
   "cell_type": "code",
   "execution_count": 30,
   "metadata": {},
   "outputs": [
    {
     "name": "stdout",
     "output_type": "stream",
     "text": [
      "|--- Flavanoids <= 1.58\n",
      "|   |--- Color_Intensity <= 3.72\n",
      "|   |   |--- class: 2\n",
      "|   |--- Color_Intensity >  3.72\n",
      "|   |   |--- Hue <= 0.97\n",
      "|   |   |   |--- class: 3\n",
      "|   |   |--- Hue >  0.97\n",
      "|   |   |   |--- class: 2\n",
      "|--- Flavanoids >  1.58\n",
      "|   |--- Proline <= 722.50\n",
      "|   |   |--- Malic_Acid <= 3.92\n",
      "|   |   |   |--- class: 2\n",
      "|   |   |--- Malic_Acid >  3.92\n",
      "|   |   |   |--- Malic_Acid <= 4.14\n",
      "|   |   |   |   |--- class: 1\n",
      "|   |   |   |--- Malic_Acid >  4.14\n",
      "|   |   |   |   |--- class: 2\n",
      "|   |--- Proline >  722.50\n",
      "|   |   |--- Color_Intensity <= 3.43\n",
      "|   |   |   |--- class: 2\n",
      "|   |   |--- Color_Intensity >  3.43\n",
      "|   |   |   |--- class: 1\n",
      "\n"
     ]
    }
   ],
   "source": [
    "from sklearn.tree import export_text\n",
    "r = export_text(model_tree, feature_names=feature_col)\n",
    "print(r)"
   ]
  },
  {
   "cell_type": "code",
   "execution_count": 32,
   "metadata": {},
   "outputs": [
    {
     "name": "stdout",
     "output_type": "stream",
     "text": [
      "0.9722222222222222\n",
      "[[12  0  0]\n",
      " [ 1 15  0]\n",
      " [ 0  0  8]]\n"
     ]
    },
    {
     "data": {
      "text/plain": [
       "[Text(0.375, 0.875, 'X[9] <= 3.46\\ngini = 0.661\\nsamples = 142\\nvalue = [47, 55, 40]'),\n",
       " Text(0.25, 0.625, 'gini = 0.0\\nsamples = 44\\nvalue = [0, 44, 0]'),\n",
       " Text(0.5, 0.625, 'X[6] <= 1.58\\ngini = 0.591\\nsamples = 98\\nvalue = [47, 11, 40]'),\n",
       " Text(0.25, 0.375, 'X[10] <= 0.97\\ngini = 0.091\\nsamples = 42\\nvalue = [0, 2, 40]'),\n",
       " Text(0.125, 0.125, 'gini = 0.0\\nsamples = 40\\nvalue = [0, 0, 40]'),\n",
       " Text(0.375, 0.125, 'gini = 0.0\\nsamples = 2\\nvalue = [0, 2, 0]'),\n",
       " Text(0.75, 0.375, 'X[12] <= 679.0\\ngini = 0.27\\nsamples = 56\\nvalue = [47, 9, 0]'),\n",
       " Text(0.625, 0.125, 'gini = 0.0\\nsamples = 9\\nvalue = [0, 9, 0]'),\n",
       " Text(0.875, 0.125, 'gini = 0.0\\nsamples = 47\\nvalue = [47, 0, 0]')]"
      ]
     },
     "execution_count": 32,
     "metadata": {},
     "output_type": "execute_result"
    },
    {
     "data": {
      "image/png": "[encoded data removed]",
      "text/plain": [
       "<Figure size 432x288 with 1 Axes>"
      ]
     },
     "metadata": {
      "needs_background": "light"
     },
     "output_type": "display_data"
    }
   ],
   "source": [
    "# Using gini index\n",
    "\n",
    "#Fit the given data\n",
    "tree1 = DecisionTreeClassifier()\n",
    "tree1 = tree1.fit(x_train, y_train)\n",
    "\n",
    "#Make prediction on the test data\n",
    "ypred_gini = tree1.predict(x_test)\n",
    "\n",
    "# percentage of accuracy\n",
    "print(metrics.accuracy_score(y_test, ypred_gini))\n",
    "#print(f'accuracy obtained is {metrics.accuracy_score(y_test, ypred_gini)*100:.2f}%')\n",
    "\n",
    "# confusion matrix\n",
    "print(metrics.confusion_matrix(y_test, ypred_gini))\n",
    "\n",
    "# to visualize the decision tree\n",
    "tree.plot_tree(tree1)"
   ]
  },
  {
   "cell_type": "markdown",
   "metadata": {},
   "source": [
    "Decision Tree Regressor"
   ]
  },
  {
   "cell_type": "code",
   "execution_count": 33,
   "metadata": {},
   "outputs": [],
   "source": [
    "from sklearn.tree import DecisionTreeRegressor\n",
    "from sklearn.datasets import fetch_california_housing"
   ]
  },
  {
   "cell_type": "code",
   "execution_count": 34,
   "metadata": {},
   "outputs": [],
   "source": [
    "housing = fetch_california_housing()"
   ]
  },
  {
   "cell_type": "code",
   "execution_count": 35,
   "metadata": {},
   "outputs": [],
   "source": [
    "X = pd.DataFrame(housing.data, columns=housing.feature_names)\n",
    "y = pd.DataFrame(housing.target, columns=[\"target\"])\n",
    "X_train, X_test, y_train, y_test = train_test_split(X, y, test_size = 0.2)\n",
    "\n",
    "model = DecisionTreeRegressor(criterion = 'squared_error', max_depth = 3)\n",
    "model = model.fit(X_train, y_train)"
   ]
  },
  {
   "cell_type": "code",
   "execution_count": 36,
   "metadata": {},
   "outputs": [
    {
     "name": "stdout",
     "output_type": "stream",
     "text": [
      "0.5316013301015272\n"
     ]
    }
   ],
   "source": [
    "y_pred = model.predict(X_test)\n",
    "print(metrics.r2_score(y_test, y_pred))"
   ]
  },
  {
   "cell_type": "code",
   "execution_count": 17,
   "metadata": {},
   "outputs": [
    {
     "data": {
      "text/plain": [
       "[Text(0.5, 0.875, 'X[0] <= 5.035\\nsquared_error = 1.331\\nsamples = 16512\\nvalue = 2.071'),\n",
       " Text(0.25, 0.625, 'X[0] <= 3.074\\nsquared_error = 0.838\\nsamples = 12988\\nvalue = 1.737'),\n",
       " Text(0.125, 0.375, 'X[2] <= 4.335\\nsquared_error = 0.555\\nsamples = 6241\\nvalue = 1.356'),\n",
       " Text(0.0625, 0.125, 'squared_error = 0.664\\nsamples = 2716\\nvalue = 1.61'),\n",
       " Text(0.1875, 0.125, 'squared_error = 0.384\\nsamples = 3525\\nvalue = 1.161'),\n",
       " Text(0.375, 0.375, 'X[5] <= 2.344\\nsquared_error = 0.841\\nsamples = 6747\\nvalue = 2.088'),\n",
       " Text(0.3125, 0.125, 'squared_error = 1.316\\nsamples = 1455\\nvalue = 2.832'),\n",
       " Text(0.4375, 0.125, 'squared_error = 0.517\\nsamples = 5292\\nvalue = 1.884'),\n",
       " Text(0.75, 0.625, 'X[0] <= 6.87\\nsquared_error = 1.215\\nsamples = 3524\\nvalue = 3.304'),\n",
       " Text(0.625, 0.375, 'X[5] <= 2.743\\nsquared_error = 0.891\\nsamples = 2482\\nvalue = 2.918'),\n",
       " Text(0.5625, 0.125, 'squared_error = 1.01\\nsamples = 1033\\nvalue = 3.407'),\n",
       " Text(0.6875, 0.125, 'squared_error = 0.515\\nsamples = 1449\\nvalue = 2.57'),\n",
       " Text(0.875, 0.375, 'X[0] <= 7.815\\nsquared_error = 0.782\\nsamples = 1042\\nvalue = 4.225'),\n",
       " Text(0.8125, 0.125, 'squared_error = 0.797\\nsamples = 419\\nvalue = 3.727'),\n",
       " Text(0.9375, 0.125, 'squared_error = 0.494\\nsamples = 623\\nvalue = 4.559')]"
      ]
     },
     "execution_count": 17,
     "metadata": {},
     "output_type": "execute_result"
    },
    {
     "data": {
      "image/png": "[encoded data removed]",
      "text/plain": [
       "<Figure size 432x288 with 1 Axes>"
      ]
     },
     "metadata": {
      "needs_background": "light"
     },
     "output_type": "display_data"
    }
   ],
   "source": [
    "tree.plot_tree(model)"
   ]
  },
  {
   "cell_type": "code",
   "execution_count": 18,
   "metadata": {},
   "outputs": [],
   "source": [
    "# https://scikit-learn.org/stable/datasets.html (list of availbale sklean dataset)"
   ]
  },
  {
   "cell_type": "code",
   "execution_count": 19,
   "metadata": {},
   "outputs": [],
   "source": [
    "# https://scikit-learn.org/stable/modules/tree.html (Decision tree )"
   ]
  }
 ],
 "metadata": {
  "kernelspec": {
   "display_name": "Python 3",
   "language": "python",
   "name": "python3"
  },
  "language_info": {
   "codemirror_mode": {
    "name": "ipython",
    "version": 3
   },
   "file_extension": ".py",
   "mimetype": "text/x-python",
   "name": "python",
   "nbconvert_exporter": "python",
   "pygments_lexer": "ipython3",
   "version": "3.10.1"
  },
  "vscode": {
   "interpreter": {
    "hash": "76d7c06053c3456e5600312cec90888656fc0ed30c03d8425b9dac6e4fc8e014"
   }
  }
 },
 "nbformat": 4,
 "nbformat_minor": 2
}

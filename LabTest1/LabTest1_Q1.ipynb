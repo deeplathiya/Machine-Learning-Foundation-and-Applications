{
 "cells": [
  {
   "cell_type": "code",
   "execution_count": 1,
   "metadata": {},
   "outputs": [],
   "source": [
    "import numpy as np\n",
    "import pandas as pd\n",
    "import matplotlib.pyplot as plt\n",
    "import seaborn as sns\n",
    "import warnings"
   ]
  },
  {
   "cell_type": "code",
   "execution_count": 2,
   "metadata": {},
   "outputs": [
    {
     "data": {
      "text/plain": [
       "array([0.45, 1.5 , 2.3 , 3.56, 4.2 ])"
      ]
     },
     "execution_count": 2,
     "metadata": {},
     "output_type": "execute_result"
    }
   ],
   "source": [
    "#Choose a random 5D vector W, where the first dimension lies between (0,1), 2nd dimension between (1,2), 3rd between (2,3) etc. \n",
    "W = np.array([0.45, 1.5, 2.3, 3.56, 4.2])\n",
    "W"
   ]
  },
  {
   "cell_type": "code",
   "execution_count": 3,
   "metadata": {},
   "outputs": [
    {
     "name": "stdout",
     "output_type": "stream",
     "text": [
      "(1000, 5) (1000,)\n"
     ]
    }
   ],
   "source": [
    "# Use it to generate N=1000 data-points {Xi, Yi}, where Yi = W.Xi + ei, where Xi is a 5D feature vector where each feature is uniformly between (-10, 10) and ei is a random value between -1 and 1\n",
    "X = np.random.uniform(low = -10,high = 10, size=(1000,5))\n",
    "Y = np.dot(X, W) \n",
    "e = np.random.uniform(low = -1,high = 1, size=(1000,))\n",
    "Y = Y + e\n",
    "print(X.shape, Y.shape)"
   ]
  },
  {
   "cell_type": "code",
   "execution_count": 4,
   "metadata": {},
   "outputs": [
    {
     "data": {
      "text/plain": [
       "array([0.4496771 , 1.49452865, 2.29858038, 3.56214322, 4.19760243])"
      ]
     },
     "execution_count": 4,
     "metadata": {},
     "output_type": "execute_result"
    }
   ],
   "source": [
    "#Fit a linear regression model on (Xi, Yi) and estimate W1. \n",
    "from sklearn.linear_model import LinearRegression\n",
    "reg = LinearRegression().fit(X, Y)\n",
    "W1 = reg.coef_\n",
    "W1"
   ]
  },
  {
   "cell_type": "code",
   "execution_count": 5,
   "metadata": {},
   "outputs": [
    {
     "name": "stdout",
     "output_type": "stream",
     "text": [
      "error =  0.0065112958266502555\n",
      "mse =  0.33090877961933424\n"
     ]
    }
   ],
   "source": [
    "#Calculate the estimation error ||W-W1||2 and the MSE (1/N)*∑(Yi-W1.Xi)2\n",
    "error = np.linalg.norm(W-W1)\n",
    "mse = np.mean((Y - np.dot(X, W1))**2)\n",
    "print(\"error = \", error)\n",
    "print(\"mse = \", mse)"
   ]
  },
  {
   "cell_type": "code",
   "execution_count": 6,
   "metadata": {},
   "outputs": [
    {
     "data": {
      "text/plain": [
       "[array([0.42192092, 1.46548782, 2.26724763, 3.53418877, 4.16826699]),\n",
       " array([0.39415386, 1.4364437 , 2.23591337, 3.50623552, 4.13893219]),\n",
       " array([0.36638679, 1.40739957, 2.20457911, 3.47828227, 4.10959739]),\n",
       " array([0.33861972, 1.37835545, 2.17324484, 3.45032903, 4.08026258]),\n",
       " array([0.31085265, 1.34931132, 2.14191058, 3.42237578, 4.05092778]),\n",
       " array([0.28308558, 1.3202672 , 2.11057632, 3.39442253, 4.02159297]),\n",
       " array([0.25531852, 1.29122307, 2.07924205, 3.36646928, 3.99225817]),\n",
       " array([0.22755145, 1.26217894, 2.04790779, 3.33851604, 3.96292337]),\n",
       " array([0.19978438, 1.23313482, 2.01657353, 3.31056279, 3.93358856]),\n",
       " array([0.17201731, 1.20409069, 1.98523927, 3.28260954, 3.90425376]),\n",
       " array([0.14425024, 1.17504657, 1.953905  , 3.25465629, 3.87491895]),\n",
       " array([0.11648317, 1.14600244, 1.92257074, 3.22670305, 3.84558415]),\n",
       " array([0.08871611, 1.11695832, 1.89123648, 3.1987498 , 3.81624934]),\n",
       " array([0.06094904, 1.08791419, 1.85990221, 3.17079655, 3.78691454]),\n",
       " array([0.03318197, 1.05887007, 1.82856795, 3.1428433 , 3.75757974]),\n",
       " array([0.0054149 , 1.02982594, 1.79723369, 3.11489006, 3.72824493]),\n",
       " array([0.        , 1.00166941, 1.76578483, 3.08629778, 3.69787501]),\n",
       " array([0.        , 0.97372862, 1.73430969, 3.05755014, 3.6672543 ]),\n",
       " array([0.        , 0.94578783, 1.70283454, 3.02880249, 3.6366336 ]),\n",
       " array([0.        , 0.91784704, 1.6713594 , 3.00005484, 3.60601289])]"
      ]
     },
     "execution_count": 6,
     "metadata": {},
     "output_type": "execute_result"
    }
   ],
   "source": [
    "#Fit a LASSO regression model on (Xi, Yi) and estimate W2 for different values of λ (1 to 20).\n",
    "from sklearn.linear_model import Lasso\n",
    "W2 = []\n",
    "for i in range(1, 21):\n",
    "    reg = Lasso(alpha = i).fit(X, Y)\n",
    "    W2.append(reg.coef_)\n",
    "W2"
   ]
  },
  {
   "cell_type": "code",
   "execution_count": 7,
   "metadata": {},
   "outputs": [
    {
     "name": "stdout",
     "output_type": "stream",
     "text": [
      "[array([0.42192092, 1.46548782, 2.26724763, 3.53418877, 4.16826699]), array([0.39415386, 1.4364437 , 2.23591337, 3.50623552, 4.13893219]), array([0.36638679, 1.40739957, 2.20457911, 3.47828227, 4.10959739]), array([0.33861972, 1.37835545, 2.17324484, 3.45032903, 4.08026258]), array([0.31085265, 1.34931132, 2.14191058, 3.42237578, 4.05092778]), array([0.28308558, 1.3202672 , 2.11057632, 3.39442253, 4.02159297]), array([0.25531852, 1.29122307, 2.07924205, 3.36646928, 3.99225817]), array([0.22755145, 1.26217894, 2.04790779, 3.33851604, 3.96292337]), array([0.19978438, 1.23313482, 2.01657353, 3.31056279, 3.93358856]), array([0.17201731, 1.20409069, 1.98523927, 3.28260954, 3.90425376]), array([0.14425024, 1.17504657, 1.953905  , 3.25465629, 3.87491895]), array([0.11648317, 1.14600244, 1.92257074, 3.22670305, 3.84558415]), array([0.        , 1.11695832, 1.89123648, 3.1987498 , 3.81624934]), array([0.        , 1.08791419, 1.85990221, 3.17079655, 3.78691454]), array([0.        , 1.05887007, 1.82856795, 3.1428433 , 3.75757974]), array([0.        , 1.02982594, 1.79723369, 3.11489006, 3.72824493]), array([0.        , 1.00166941, 1.76578483, 3.08629778, 3.69787501]), array([0.        , 0.97372862, 1.73430969, 3.05755014, 3.6672543 ]), array([0.        , 0.94578783, 1.70283454, 3.02880249, 3.6366336 ]), array([0.        , 0.91784704, 1.6713594 , 3.00005484, 3.60601289])]\n"
     ]
    },
    {
     "data": {
      "text/plain": [
       "Text(0, 0.5, 'MSE')"
      ]
     },
     "execution_count": 7,
     "metadata": {},
     "output_type": "execute_result"
    },
    {
     "data": {
      "image/png": "[encoded data removed]",
      "text/plain": [
       "<Figure size 432x288 with 1 Axes>"
      ]
     },
     "metadata": {
      "needs_background": "light"
     },
     "output_type": "display_data"
    }
   ],
   "source": [
    "#Sparsify each W2 to obtain W3 by setting all values below a certain threshold to 0 (you can choose the threshold). \n",
    "W3 = []\n",
    "for i in range(0, 20):\n",
    "    W3.append(np.where(abs(W2[i]) < 0.1, 0, W2[i]))\n",
    "print(W3)\n",
    "#Plot the MSE (1/N)*∑(Yi-W3.Xi)2 as a function of λ. \n",
    "mse = []\n",
    "for i in range(0, 20):\n",
    "    mse.append(np.mean((Y - np.dot(X, W3[i]))**2))\n",
    "\n",
    "lamb = [i for i in range(1, 21)]\n",
    "plt.plot(lamb, mse)\n",
    "plt.xlabel('lambda')\n",
    "plt.ylabel('MSE')\n"
   ]
  }
 ],
 "metadata": {
  "kernelspec": {
   "display_name": "Python 3",
   "language": "python",
   "name": "python3"
  },
  "language_info": {
   "codemirror_mode": {
    "name": "ipython",
    "version": 3
   },
   "file_extension": ".py",
   "mimetype": "text/x-python",
   "name": "python",
   "nbconvert_exporter": "python",
   "pygments_lexer": "ipython3",
   "version": "3.10.1"
  },
  "orig_nbformat": 4
 },
 "nbformat": 4,
 "nbformat_minor": 2
}
